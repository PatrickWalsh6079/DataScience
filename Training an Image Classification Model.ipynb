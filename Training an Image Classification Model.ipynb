{
 "cells": [
  {
   "cell_type": "markdown",
   "metadata": {},
   "source": [
    "# Training an Image Classification Model\n",
    "These cells will make a training call to an IBM Watson Visual Recognition service\n",
    "to train an Image Classification model on a particular dataset."
   ]
  },
  {
   "cell_type": "code",
   "execution_count": null,
   "metadata": {},
   "outputs": [],
   "source": [
    "import json\n",
    "\n",
    "# specify the training data to be used\n",
    "training_mold = r\"C:\\Users\\pwalsh\\Desktop\\PROJECTS\\Visual Recognition\\Helena\\Training\\Training Mold.zip\"\n",
    "training_mites = r\"C:\\Users\\pwalsh\\Desktop\\PROJECTS\\Visual Recognition\\Helena\\Training\\Training Mites.zip\"\n",
    "\n",
    "\n",
    "from watson_developer_cloud import VisualRecognitionV3\n",
    "\n",
    "visual_recognition = VisualRecognitionV3(\n",
    "    'INSERT MODEL DATE HERE',\n",
    "    iam_apikey='INSERT YOUR API KEY HERE')\n",
    "\n",
    "with open(training_mold, 'rb') as Mold, open(\n",
    "        training_mites, 'rb') as Mites:\n",
    "    # specify model name\n",
    "    model = visual_recognition.create_classifier(\n",
    "        'INSERT NAME OF MODEL HERE',\n",
    "        mold_positive_examples=Mold,\n",
    "        mites_positive_examples=Mites).get_result()\n",
    "print(json.dumps(model, indent=2))"
   ]
  },
  {
   "cell_type": "markdown",
   "metadata": {},
   "source": [
    "Retrieve info about your classification model"
   ]
  },
  {
   "cell_type": "code",
   "execution_count": null,
   "metadata": {},
   "outputs": [],
   "source": [
    "import json\n",
    "from watson_developer_cloud import VisualRecognitionV3\n",
    "\n",
    "visual_recognition = VisualRecognitionV3(\n",
    "    'INSERT MODEL DATE HERE',\n",
    "    iam_apikey='INSERT YOUR API KEY HERE')\n",
    "\n",
    "classifiers = visual_recognition.list_classifiers(verbose=True).get_result()\n",
    "print(json.dumps(classifiers, indent=2))"
   ]
  },
  {
   "cell_type": "markdown",
   "metadata": {},
   "source": [
    "# Retrain the Model\n",
    "Perform iterative training on an already trained by adding additional images\n",
    "to the training set."
   ]
  },
  {
   "cell_type": "code",
   "execution_count": null,
   "metadata": {},
   "outputs": [],
   "source": [
    "import json\n",
    "\n",
    "\n",
    "#######################################\n",
    "# specify the training data to be used\n",
    "#######################################\n",
    "training_mold = r\"C:\\Users\\pwalsh\\Desktop\\PROJECTS\\Visual Recognition\\Helena\\Training\\Training Mold 2.zip\"\n",
    "training_mites = r\"C:\\Users\\pwalsh\\Desktop\\PROJECTS\\Visual Recognition\\Helena\\Training\\Training Mites 2.zip\"\n",
    "\n",
    "from watson_developer_cloud import VisualRecognitionV3\n",
    "\n",
    "visual_recognition = VisualRecognitionV3(\n",
    "    'INSERT YOUR MODEL DATE',\n",
    "    iam_apikey='INSERT YOUR API KEY HERE')\n",
    "\n",
    "with open(training_mold, 'rb') as Mold, open(\n",
    "        training_mites, 'rb') as Mites:\n",
    "    updated_model = visual_recognition.update_classifier(\n",
    "        classifier_id='INSERT NAME OF MODEL HERE',\n",
    "        mold_positive_examples=Mold,\n",
    "        mites_positive_examples=Mites).get_result()\n",
    "print(json.dumps(updated_model, indent=2))"
   ]
  }
 ],
 "metadata": {
  "kernelspec": {
   "display_name": "Python 3",
   "language": "python",
   "name": "python3"
  },
  "language_info": {
   "codemirror_mode": {
    "name": "ipython",
    "version": 3
   },
   "file_extension": ".py",
   "mimetype": "text/x-python",
   "name": "python",
   "nbconvert_exporter": "python",
   "pygments_lexer": "ipython3",
   "version": "3.6.5"
  }
 },
 "nbformat": 4,
 "nbformat_minor": 2
}
