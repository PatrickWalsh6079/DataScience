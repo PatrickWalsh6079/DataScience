{
 "cells": [
  {
   "cell_type": "markdown",
   "metadata": {},
   "source": [
    "# Probability Metrics\n",
    "Use in conjunction with Confusion Matrix\n",
    "to calculate Probability of correct \n",
    "classification (Accuracy), Probability\n",
    "of False Positives, and Probability of\n",
    "False Negatives. \n",
    "Takes inputs from Confusion Matrix to \n",
    "determine values."
   ]
  },
  {
   "cell_type": "code",
   "execution_count": 5,
   "metadata": {},
   "outputs": [
    {
     "name": "stdout",
     "output_type": "stream",
     "text": [
      "FIAT\n",
      "Actual Positives: 10 \t\t\t Probability of Correct classification: 0.92\n",
      "Predicted correctly: 8  \t\t Probability of False Positive classification: 0.05\n",
      "Actual Negatives: 40  \t\t\t Probability of False Negative classification: 0.2\n",
      "Predicted correctly: 38\n",
      "\n",
      "\n",
      "RENAULT\n",
      "Actual Positives: 15 \t\t\t Probability of Correct classification: 0.92\n",
      "Predicted correctly: 12  \t\t Probability of False Positive classification: 0.0286\n",
      "Actual Negatives: 35  \t\t\t Probability of False Negative classification: 0.2\n",
      "Predicted correctly: 34\n",
      "\n",
      "\n",
      "SMART CAR\n",
      "Actual Positives: 15 \t\t\t Probability of Correct classification: 0.94\n",
      "Predicted correctly: 13  \t\t Probability of False Positive classification: 0.0286\n",
      "Actual Negatives: 35  \t\t\t Probability of False Negative classification: 0.1333\n",
      "Predicted correctly: 34\n",
      "\n",
      "\n",
      "VW BEETLE\n",
      "Actual Positives: 10 \t\t\t Probability of Correct classification: 0.94\n",
      "Predicted correctly: 8  \t\t Probability of False Positive classification: 0.025\n",
      "Actual Negatives: 40  \t\t\t Probability of False Negative classification: 0.2\n",
      "Predicted correctly: 39\n",
      "\n",
      "\n"
     ]
    }
   ],
   "source": [
    "# print out probability metrics\n",
    "\n",
    "\n",
    "categories.append(\"Unclass\")\n",
    "index = confusion_matrix(y_pred, y_true, categories)\n",
    "#print(index)\n",
    "num_categories = (len(index)-1)\n",
    "#print(num_categories)\n",
    "count = 0\n",
    "\n",
    " \n",
    "\n",
    "for i in categories:\n",
    "    print(categories[count].upper())\n",
    "    \n",
    "    # actual positives\n",
    "    actual_positives = 0\n",
    "    for i in index:\n",
    "        actual_positives += i[count]\n",
    "    \n",
    "    # predicted positives\n",
    "    pred_positives = index[count][count]\n",
    "    \n",
    "    # actual negatives\n",
    "    actual_negatives = (sum(sum(index))) - actual_positives\n",
    "    \n",
    "    # predicted negatives\n",
    "    pred_negatives = actual_negatives + pred_positives - sum(index[count])\n",
    "    \n",
    "    \n",
    "    \n",
    "    # determine probabilities\n",
    "    if (pred_positives+pred_negatives) == 0 or actual_positives+actual_negatives == 0:\n",
    "        correct_class = 0.0\n",
    "    else:\n",
    "        correct_class = round((pred_positives+pred_negatives)/(actual_positives+actual_negatives),4)\n",
    "    if actual_negatives-pred_negatives == 0 or actual_negatives == 0:\n",
    "        false_pos = 0\n",
    "    else:\n",
    "        false_pos = round((actual_negatives-pred_negatives)/actual_negatives,4)\n",
    "    if  actual_positives-pred_positives == 0 or actual_positives == 0:\n",
    "        false_neg = 0\n",
    "    else:\n",
    "        false_neg = round((actual_positives-pred_positives)/actual_positives,4)\n",
    "        \n",
    "    \n",
    "    print('Actual Positives:',actual_positives,'\\t\\t\\t Probability of Correct classification:',correct_class)\n",
    "    print('Predicted correctly:',pred_positives,' \\t\\t Probability of False Positive classification:',false_pos)\n",
    "    print('Actual Negatives:',actual_negatives,' \\t\\t\\t Probability of False Negative classification:',false_neg)\n",
    "    print('Predicted correctly:',pred_negatives)\n",
    "    print('\\n')\n",
    "    \n",
    "    \n",
    "    if count < num_categories-1:\n",
    "        count+=1\n",
    "    else:\n",
    "        categories.pop()\n",
    "        break"
   ]
  },
  {
   "cell_type": "code",
   "execution_count": null,
   "metadata": {},
   "outputs": [],
   "source": []
  },
  {
   "cell_type": "code",
   "execution_count": null,
   "metadata": {},
   "outputs": [],
   "source": []
  }
 ],
 "metadata": {
  "kernelspec": {
   "display_name": "Python 3",
   "language": "python",
   "name": "python3"
  },
  "language_info": {
   "codemirror_mode": {
    "name": "ipython",
    "version": 3
   },
   "file_extension": ".py",
   "mimetype": "text/x-python",
   "name": "python",
   "nbconvert_exporter": "python",
   "pygments_lexer": "ipython3",
   "version": "3.6.5"
  }
 },
 "nbformat": 4,
 "nbformat_minor": 2
}
