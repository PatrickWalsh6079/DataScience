{
 "cells": [
  {
   "cell_type": "markdown",
   "metadata": {},
   "source": [
    "# Create Image Classification Model\n",
    "This program installs Watson Visual Recognition from a Jupyter\n",
    "Notebook. Necessary to be able to run the other image classifier\n",
    "code."
   ]
  },
  {
   "cell_type": "code",
   "execution_count": null,
   "metadata": {},
   "outputs": [],
   "source": [
    "# Install a pip package in the current Jupyter kernel\n",
    "import sys\n",
    "!{sys.executable} -m pip install \"watson-developer-cloud>=2.5.2\"\n",
    "\n",
    "# error handling responses\n",
    "from watson_developer_cloud import WatsonApiException\n",
    "try:\n",
    "    # Invoke a Visual Recognition method\n",
    "except WatsonApiException as ex:\n",
    "    print \"Method failed with status code \" + str(ex.code) + \": \" + ex.message\n",
    "\n",
    "\n",
    "# prevent IBM usage of logged API requests. To turn off, change parameter to \"false\"\n",
    "visual_recognition.set_default_headers({'x-watson-learning-opt-out': \"true\"})"
   ]
  }
 ],
 "metadata": {
  "kernelspec": {
   "display_name": "Python 3",
   "language": "python",
   "name": "python3"
  },
  "language_info": {
   "codemirror_mode": {
    "name": "ipython",
    "version": 3
   },
   "file_extension": ".py",
   "mimetype": "text/x-python",
   "name": "python",
   "nbconvert_exporter": "python",
   "pygments_lexer": "ipython3",
   "version": "3.6.5"
  }
 },
 "nbformat": 4,
 "nbformat_minor": 2
}
