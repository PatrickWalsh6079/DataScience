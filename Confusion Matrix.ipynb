{
 "cells": [
  {
   "cell_type": "markdown",
   "metadata": {},
   "source": [
    "# Confusion Matrix\n",
    "\n",
    "Confusion Matrix to analyze results of \n",
    "Machine Learning model. Takes in Actual labels\n",
    "and Predicted labels in the form of lists and\n",
    "writes results to Confusion Matrix. Common tool\n",
    "used by Data Scientists in the field of Machine\n",
    "Learning and Artificial Intelligence.\n",
    "Uses SciKit Learn Confusion Matrix import to \n",
    "build matrix along with Matplotlib to visualize\n",
    "the data."
   ]
  },
  {
   "cell_type": "code",
   "execution_count": 1,
   "metadata": {},
   "outputs": [],
   "source": [
    "###########################################\n",
    "threshold = 0.80\n",
    "# define class names\n",
    "cat_0 = \"Fiat\"\n",
    "cat_1 = \"Renault\"\n",
    "cat_2 = \"Smart Car\"\n",
    "cat_3 = \"VW Beetle\"\n",
    "categories = [cat_0,cat_1,cat_2,cat_3]\n",
    "###########################################\n",
    "\n",
    "y_true = [\"Fiat\", \"Smart Car\", \"VW Beetle\", \"Renault\",\"Renault\", \n",
    "          \"VW Beetle\",\"Fiat\",\"Smart Car\",\"Smart Car\",\"Renault\",\"Fiat\", \n",
    "          \"Smart Car\", \"VW Beetle\", \"Renault\",\"Renault\", \"VW Beetle\",\"Fiat\",\n",
    "          \"Smart Car\",\"Smart Car\",\"Renault\",\"Fiat\", \"Smart Car\", \"VW Beetle\", \n",
    "          \"Renault\",\"Renault\", \"VW Beetle\",\"Fiat\",\"Smart Car\",\"Smart Car\",\n",
    "          \"Renault\",\"Fiat\", \"Smart Car\", \"VW Beetle\", \"Renault\",\"Renault\", \n",
    "          \"VW Beetle\",\"Fiat\",\"Smart Car\",\"Smart Car\",\"Renault\",\"Fiat\", \n",
    "          \"Smart Car\", \"VW Beetle\", \"Renault\",\"Renault\", \"VW Beetle\",\"Fiat\",\n",
    "          \"Smart Car\",\"Smart Car\",\"Renault\"]\n",
    "          \n",
    "\n",
    "y_pred = [\"Unclass\", \"Smart Car\",\"Unclass\", \"Smart Car\",\"VW Beetle\", \"Unclass\",\"Renault\", \n",
    "          \"Unclass\",\"Fiat\",\"Fiat\",\"Fiat\", \"Smart Car\", \"VW Beetle\", \n",
    "          \"Renault\",\"Renault\", \"VW Beetle\",\"Fiat\",\"Smart Car\",\"Smart Car\",\n",
    "          \"Renault\",\"Fiat\", \"Smart Car\", \"VW Beetle\", \"Renault\",\"Renault\", \n",
    "          \"VW Beetle\",\"Fiat\",\"Smart Car\",\"Smart Car\",\"Renault\",\"Fiat\", \n",
    "          \"Smart Car\", \"VW Beetle\", \"Renault\",\"Renault\", \"VW Beetle\",\"Fiat\",\n",
    "          \"Smart Car\",\"Smart Car\",\"Renault\",\"Fiat\", \"Smart Car\", \"VW Beetle\", \n",
    "          \"Renault\",\"Renault\", \"VW Beetle\",\"Fiat\",\"Smart Car\",\"Smart Car\",\n",
    "          \"Renault\"]"
   ]
  },
  {
   "cell_type": "code",
   "execution_count": 3,
   "metadata": {},
   "outputs": [
    {
     "data": {
      "image/png": "[encoded data removed]",
      "text/plain": [
       "<Figure size 432x288 with 1 Axes>"
      ]
     },
     "metadata": {},
     "output_type": "display_data"
    }
   ],
   "source": [
    "# print out confusion matrix\n",
    "\n",
    "import numpy as np\n",
    "import matplotlib.pyplot as plt\n",
    "import math\n",
    "\n",
    "from sklearn import svm, datasets\n",
    "from sklearn.model_selection import train_test_split\n",
    "from sklearn.metrics import confusion_matrix\n",
    "from sklearn.utils.multiclass import unique_labels\n",
    "\n",
    "\n",
    "categories.append(\"Unclass\")\n",
    "\n",
    "\n",
    "\n",
    "def plot_confusion_matrix(y_pred, y_true,\n",
    "                          title=None,\n",
    "                          cmap=plt.cm.Blues):\n",
    "\n",
    "    cm = confusion_matrix(y_pred, y_true, categories)\n",
    "\n",
    "    fig, ax = plt.subplots()\n",
    "    im = ax.imshow(cm, interpolation='nearest', cmap=cmap)\n",
    "            \n",
    "    plt.title(title,fontsize=18,color='black')\n",
    "    plt.xlabel('Actual',fontsize=16,color='black')\n",
    "    plt.ylabel('Predicted',fontsize=16,color='black')      \n",
    "    ax.set_yticklabels([''] + categories,fontsize=10,color='black')\n",
    "    categories.pop()\n",
    "    ax.set_xticklabels([''] + categories,fontsize=10,color='black',rotation=50)\n",
    "    \n",
    "    cax = ax.matshow(cm, interpolation='nearest', cmap=('PuBu'))\n",
    "    \n",
    "    # Loop over data dimensions and create text annotations.\n",
    "    fmt = ''\n",
    "    x_shape = cm.shape[0]-1\n",
    "    y_shape = cm.shape[1]\n",
    "    thresh = cm.max() / 2\n",
    "    for i in range(y_shape):\n",
    "        for j in range(x_shape):\n",
    "            ax.text(j, i, format(cm[i, j], fmt),\n",
    "                    ha=\"center\", va=\"center\",\n",
    "                    color=\"white\" if cm[i, j] > thresh else \"black\")\n",
    "\n",
    "# Plot confusion matrix\n",
    "plot_confusion_matrix(y_pred, y_true,title='Confusion matrix\\n\\n\\n\\n')"
   ]
  },
  {
   "cell_type": "code",
   "execution_count": null,
   "metadata": {},
   "outputs": [],
   "source": []
  }
 ],
 "metadata": {
  "kernelspec": {
   "display_name": "Python 3",
   "language": "python",
   "name": "python3"
  },
  "language_info": {
   "codemirror_mode": {
    "name": "ipython",
    "version": 3
   },
   "file_extension": ".py",
   "mimetype": "text/x-python",
   "name": "python",
   "nbconvert_exporter": "python",
   "pygments_lexer": "ipython3",
   "version": "3.6.5"
  }
 },
 "nbformat": 4,
 "nbformat_minor": 2
}
