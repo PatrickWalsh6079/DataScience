{
 "cells": [
  {
   "cell_type": "markdown",
   "metadata": {},
   "source": [
    "# Move images from source folders to training/validation/testing folders\n",
    "\n",
    "This notebook prepares is designed to prepare a model with 3 classes for training. It moves images from their original folders as uploaded by the user to a training folder. The class labels are arranged alphabetically, so the Class 1 folder should house whichever class is first alphabetically. For the tomato plant use-case, Class 1 = Healthy, Class 2 = Mites, and Class 3 = Mold. The user must specify the class label to be attached to each file. The code below will attach HEALTHY to the filename:\n",
    "\n",
    "random.choice(string.ascii_lowercase)+' '+'HEALTHY'+' '+f))\n"
   ]
  },
  {
   "cell_type": "code",
   "execution_count": 1,
   "metadata": {},
   "outputs": [
    {
     "name": "stdout",
     "output_type": "stream",
     "text": [
      "Number of files in source key:  5507\n"
     ]
    }
   ],
   "source": [
    "# calculate number of files in source\n",
    "import os\n",
    "\n",
    "##################################################\n",
    "# specify source folder\n",
    "source = r'E:\\Data Prep\\source\\Plant Village - all classes\\Orange___Haunglongbing_(Citrus_greening)'\n",
    "\n",
    "##################################################\n",
    "\n",
    "contents = []\n",
    "\n",
    "for file in os.listdir(source):\n",
    "    contents.append(file)\n",
    "\n",
    "no_files = len(contents)\n",
    "\n",
    "print('Number of files in source key: ',no_files)"
   ]
  },
  {
   "cell_type": "code",
   "execution_count": 2,
   "metadata": {},
   "outputs": [
    {
     "name": "stdout",
     "output_type": "stream",
     "text": [
      "Prefix attached to files!\n"
     ]
    }
   ],
   "source": [
    "# attach prefix and class name to files\n",
    "import random, string\n",
    "\n",
    "###########################################\n",
    "# define category\n",
    "category = 'Orange Citrus Greening'\n",
    "\n",
    "###########################################\n",
    "\n",
    "training = r'E:\\\\Data Prep\\\\training\\\\'+category\n",
    "validation = r'E:\\\\Data Prep\\\\validation\\\\'+category\n",
    "testing = r'E:\\\\Data Prep\\\\testing'\n",
    "os.mkdir(training)\n",
    "os.mkdir(validation)\n",
    "\n",
    "for file in os.listdir(source):\n",
    "    rando = random.choice(string.ascii_letters.lower())+random.choice(string.ascii_letters.lower())+random.choice(string.ascii_letters.lower())+random.choice(string.ascii_letters.lower())\n",
    "    file_name = ' '+category+' '+file\n",
    "    file_name = rando + file_name\n",
    "    #print(file_name)\n",
    "    os.rename(source+'\\\\'+file, source+'\\\\'+file_name)\n",
    "    \n",
    "\n",
    "print('Prefix attached to files!')"
   ]
  },
  {
   "cell_type": "code",
   "execution_count": 3,
   "metadata": {},
   "outputs": [
    {
     "name": "stdout",
     "output_type": "stream",
     "text": [
      "Starting number of files:  5507\n",
      "Training:  4131\n",
      "Validation:  826\n",
      "Testing:  550\n",
      "Number of files left:  0\n"
     ]
    }
   ],
   "source": [
    "# determine how many for training, validation, testing for each class\n",
    "print('Starting number of files: ',no_files)\n",
    "\n",
    "\n",
    "no_train = int(no_files *.75)\n",
    "no_valid = int(no_files *.15)\n",
    "no_test = int(no_files *.10)\n",
    "\n",
    "\n",
    "no_files -= no_train\n",
    "no_files -= no_valid\n",
    "no_files -= no_test\n",
    "\n",
    "while no_files > 0:\n",
    "    no_train += 1\n",
    "    no_files -= 1\n",
    "    if no_files == 0:\n",
    "        break\n",
    "    no_valid += 1\n",
    "    no_files -= 1\n",
    "    if no_files == 0:\n",
    "        break\n",
    "    no_test += 1\n",
    "    no_files -= 1\n",
    "    if no_files == 0:\n",
    "        break\n",
    "        \n",
    "print('Training: ',no_train)\n",
    "print('Validation: ',no_valid)\n",
    "print('Testing: ',no_test)       \n",
    "print('Number of files left: ',no_files)"
   ]
  },
  {
   "cell_type": "code",
   "execution_count": 4,
   "metadata": {},
   "outputs": [
    {
     "name": "stdout",
     "output_type": "stream",
     "text": [
      "Images copied into training, validation, and testing folders:\n",
      "\n",
      "E:\\Data Prep\\training\\Orange Citrus GreeningOrange Citrus Greening\n",
      "E:\\Data Prep\\validation\\Orange Citrus GreeningOrange Citrus Greening\n",
      "E:\\Data Prep\\testing\n"
     ]
    }
   ],
   "source": [
    "# copy files into training, validation, and testing folders\n",
    "import random, string, shutil\n",
    "\n",
    "\n",
    "for file in os.listdir(source):\n",
    "    if no_train > 0:\n",
    "        shutil.copy(source+'\\\\'+file,training+'\\\\'+file)\n",
    "        no_train -= 1\n",
    "    elif no_valid > 0:\n",
    "        shutil.copy(source+'\\\\'+file,validation+'\\\\'+file)        \n",
    "        no_valid -= 1\n",
    "    elif no_test > 0:\n",
    "        shutil.copy(source+'\\\\'+file,testing+'\\\\'+file)\n",
    "        no_test -= 1\n",
    "    #print(file)\n",
    "    if no_test == 0:\n",
    "            break\n",
    "\n",
    "\n",
    "print('Images copied into training, validation, and testing folders:\\n')\n",
    "print(training+category)\n",
    "print(validation+category)\n",
    "print(testing)"
   ]
  },
  {
   "cell_type": "markdown",
   "metadata": {},
   "source": [
    "# Convert to RecordIO format\n",
    "\n",
    "Convert training and validation images to RecordIO format. Specify where you want the converted training and \n",
    "validation images will go with variable:\n",
    "\n",
    "record_io_train = 'PlantVillage-data/training'\n",
    "record_io_valid = 'PlantVillage-data/validation'"
   ]
  },
  {
   "cell_type": "code",
   "execution_count": 1,
   "metadata": {},
   "outputs": [
    {
     "name": "stderr",
     "output_type": "stream",
     "text": [
      "C:\\Users\\pwalsh\\AppData\\Local\\Continuum\\anaconda3\\lib\\site-packages\\h5py\\__init__.py:36: FutureWarning: Conversion of the second argument of issubdtype from `float` to `np.floating` is deprecated. In future, it will be treated as `np.float64 == np.dtype(float).type`.\n",
      "  from ._conv import register_converters as _register_converters\n"
     ]
    },
    {
     "data": {
      "text/plain": [
       "array([[3., 3., 3.],\n",
       "       [3., 3., 3.]], dtype=float32)"
      ]
     },
     "execution_count": 1,
     "metadata": {},
     "output_type": "execute_result"
    }
   ],
   "source": [
    "# pip install --user mxnet\n",
    "# pip install opencv-python\n",
    "import mxnet as mx\n",
    "import cv2\n",
    "a = mx.nd.ones((2, 3))\n",
    "b = a * 2 + 1\n",
    "b.asnumpy()"
   ]
  },
  {
   "cell_type": "code",
   "execution_count": 9,
   "metadata": {},
   "outputs": [
    {
     "name": "stdout",
     "output_type": "stream",
     "text": [
      "Moved training and validation images from S3 bucket to:\n",
      "\n",
      "E:\\Data Prep\\incubator-mxnet-master\\tools\\Data\\\n",
      "E:\\Data Prep\\incubator-mxnet-master\\tools\\Data_val\\\n"
     ]
    }
   ],
   "source": [
    "# move images from s3 bucket to folders in notebook instance\n",
    "import os, glob, shutil\n",
    "\n",
    "io_convert = r'E:\\Data Prep\\incubator-mxnet-master\\tools'\n",
    "\n",
    "for f in glob.glob(training):\n",
    "    shutil.move(f, io_convert+'\\\\Data')\n",
    "for f in glob.glob(validation):\n",
    "    shutil.move(f, io_convert+'\\\\Data_val')\n",
    "\n",
    "print('Moved training and validation images from S3 bucket to:\\n')\n",
    "print('E:\\Data Prep\\incubator-mxnet-master\\\\tools\\Data\\\\')\n",
    "print('E:\\Data Prep\\incubator-mxnet-master\\\\tools\\Data_val\\\\')"
   ]
  },
  {
   "cell_type": "code",
   "execution_count": 10,
   "metadata": {},
   "outputs": [
    {
     "name": "stdout",
     "output_type": "stream",
     "text": [
      "Converted to RecordIO format in:\n",
      "\n",
      "E:\\Data Prep\\incubator-mxnet-master\\tools\\Data_rec\n",
      "\n",
      "AND\n",
      "\n",
      "E:\\Data Prep\\incubator-mxnet-master\\tools\\Data_val_rec\n"
     ]
    }
   ],
   "source": [
    "# convert to RecordIO format\n",
    "import os\n",
    "\n",
    "# change directory\n",
    "os.chdir(r\"E:\")\n",
    "os.chdir(r\"\\Data Prep\\incubator-mxnet-master\\tools\")\n",
    "\n",
    "# convert to recordIO\n",
    "os.system('python im2rec.py Data_rec\\Data_rec Data\\ --recursive --list --num-thread 8')\n",
    "os.system('python im2rec.py Data_val_rec\\Data_val_rec Data_val\\ --recursive --list --num-thread 8')\n",
    "os.system('python im2rec.py Data_rec Data\\ --recursive --pass-through --pack-label --no-shuffle --num-thread 8')\n",
    "os.system('python im2rec.py Data_val_rec Data_val\\ --recursive --pass-through --pack-label --no-shuffle --num-thread 8')\n",
    "\n",
    "\n",
    "print('Converted to RecordIO format in:\\n')\n",
    "print(r'E:\\Data Prep\\incubator-mxnet-master\\tools\\Data_rec')\n",
    "print('\\nAND\\n')\n",
    "print(r'E:\\Data Prep\\incubator-mxnet-master\\tools\\Data_val_rec')"
   ]
  },
  {
   "cell_type": "code",
   "execution_count": 13,
   "metadata": {},
   "outputs": [
    {
     "name": "stdout",
     "output_type": "stream",
     "text": [
      "Moved RecordIO files and test images to:\n",
      "\n",
      "syscomanalytics/data_prep/temp/training\n",
      "syscomanalytics/data_prep/temp/validation\n",
      "syscomanalytics/data_prep/temp/testing\n"
     ]
    }
   ],
   "source": [
    "# move RecordIO files back to S3 bucket for training\n",
    "import subprocess\n",
    "\n",
    "\n",
    "###########################################################\n",
    "\n",
    "# specify where .rec files will go for training and validation\n",
    "\n",
    "record_io_train = 'data_prep/temp/training'\n",
    "record_io_valid = 'data_prep/temp/validation'\n",
    "\n",
    "# specify where testing data will go\n",
    "testing_data = 'data_prep/temp/testing'\n",
    "\n",
    "##########################################################\n",
    "\n",
    "# training data\n",
    "cmd = ['aws','s3','cp','E:/Data Prep/incubator-mxnet-master/tools/Data_rec/',\n",
    "       's3://syscomanalytics/{}/'.format(record_io_train),'--recursive']\n",
    "subprocess.call(cmd)\n",
    "\n",
    "# validation data\n",
    "cmd = ['aws','s3','cp','E:/Data Prep/incubator-mxnet-master/tools/Data_val_rec/',\n",
    "       's3://syscomanalytics/{}/'.format(record_io_valid),'--recursive']\n",
    "subprocess.call(cmd)\n",
    "\n",
    "# testing data\n",
    "cmd = ['aws','s3','cp','E:/Data Prep/testing/',\n",
    "       's3://syscomanalytics/{}/'.format(testing_data),'--recursive']\n",
    "subprocess.call(cmd)\n",
    "\n",
    "print('Moved RecordIO files and test images to:\\n')\n",
    "print('syscomanalytics/{}'.format(record_io_train))\n",
    "print('syscomanalytics/{}'.format(record_io_valid))\n",
    "print('syscomanalytics/{}'.format(testing_data))"
   ]
  },
  {
   "cell_type": "markdown",
   "metadata": {},
   "source": [
    "# Clean-up\n",
    "\n",
    "Run these cells to remove all images from S3 KEYS:\n",
    "\n",
    "\n",
    "syscomanalytics/data_prep/source\n",
    "\n",
    "syscomanalytics/data_prep/training\n",
    "\n",
    "syscomanalytics/data_prep/validation\n",
    "\n",
    "syscomanalytics/data_prep/testing\n",
    "\n",
    "\n",
    "\n",
    "AND NOTEBOOK FOLDERS:\n",
    "\n",
    "\n",
    "\n",
    "imageclassification_PlantVillage_Test1/incubator-mxnet-master/tools/Data\n",
    "\n",
    "imageclassification_PlantVillage_Test1/incubator-mxnet-master/tools/Data_val\n",
    "\n",
    "imageclassification_PlantVillage_Test1/incubator-mxnet-master/tools/Data_rec\n",
    "\n",
    "imageclassification_PlantVillage_Test1/incubator-mxnet-master/tools/Data_val_rec"
   ]
  },
  {
   "cell_type": "code",
   "execution_count": 14,
   "metadata": {},
   "outputs": [
    {
     "name": "stdout",
     "output_type": "stream",
     "text": [
      "All files in Data Prep\\source deleted!\n",
      "All files in Data Prep\\training deleted!\n",
      "All files in Data Prep\\validation deleted!\n",
      "All files in Data Prep\\testing deleted!\n"
     ]
    }
   ],
   "source": [
    "# clean-up by deleting files in Data Prep folders\n",
    "import shutil, os\n",
    "\n",
    "# change directory\n",
    "os.chdir(\"E:\")\n",
    "os.chdir(r\"\\Data Prep\")\n",
    "\n",
    "# delete folders and their content\n",
    "shutil.rmtree('source')\n",
    "shutil.rmtree('training')\n",
    "shutil.rmtree('validation')\n",
    "shutil.rmtree('testing')\n",
    "\n",
    "# recreate folders with same names\n",
    "os.mkdir('source')\n",
    "os.mkdir('training')\n",
    "os.mkdir('validation')\n",
    "os.mkdir('testing')\n",
    "\n",
    "\n",
    "#print('All files in '+source_key+' deleted!')\n",
    "print('All files in Data Prep\\source deleted!')\n",
    "print('All files in Data Prep\\\\training deleted!')\n",
    "print('All files in Data Prep\\\\validation deleted!')\n",
    "print('All files in Data Prep\\\\testing deleted!')"
   ]
  },
  {
   "cell_type": "code",
   "execution_count": 15,
   "metadata": {},
   "outputs": [
    {
     "name": "stdout",
     "output_type": "stream",
     "text": [
      "Deleted all files from the Data, Data_rec, Data_val, and Data_val_rec directories\n"
     ]
    }
   ],
   "source": [
    "# delete all RecordIO files\n",
    "import shutil, os\n",
    "\n",
    "# change directory\n",
    "os.chdir(\"E:\")\n",
    "os.chdir(r\"\\Data Prep\\incubator-mxnet-master\\tools\")\n",
    "\n",
    "# delete folders and their content\n",
    "shutil.rmtree('Data\\\\')\n",
    "shutil.rmtree('Data_val\\\\')\n",
    "shutil.rmtree('Data_rec\\\\')\n",
    "shutil.rmtree('Data_val_rec\\\\')\n",
    "\n",
    "# recreate folders with same names\n",
    "os.mkdir('Data')\n",
    "os.mkdir('Data_rec')\n",
    "os.mkdir('Data_val')\n",
    "os.mkdir('Data_val_rec')\n",
    "\n",
    "\n",
    "print('Deleted all files from the Data, Data_rec, Data_val, and Data_val_rec directories')"
   ]
  },
  {
   "cell_type": "markdown",
   "metadata": {},
   "source": [
    "# Crop from image"
   ]
  },
  {
   "cell_type": "code",
   "execution_count": null,
   "metadata": {},
   "outputs": [],
   "source": [
    "###################################\n",
    "# crop from original\n",
    "###################################\n",
    "\n",
    "import sys\n",
    "sys.path.append('/home/ec2-user/anaconda3/envs/JupyterSystemEnv/lib/python3.6/site-packages')\n",
    "import numpy as np\n",
    "import argparse\n",
    "import imutils\n",
    "import cv2\n",
    "\n",
    "#https://www.tutorialkart.com/opencv/python/opencv-python-resize-image/\n",
    "#http://tanbakuchi.com/posts/comparison-of-openv-interpolation-algorithms/\n",
    "\n",
    "# load the image with imread()\n",
    "imageSource = 'DSC00025.JPG'\n",
    "img = cv2.imread(imageSource)\n",
    "\n",
    "\n",
    "\n",
    "# **************** zoom/crop images ********************\n",
    "cropfilename = 'crop_' + imageSource\n",
    "\n",
    "#Cropped Image\n",
    "scaleUpY = img.shape[0]\n",
    "scaleUpX = img.shape[1]\n",
    "beginY = int((scaleUpY/2) - (128))\n",
    "beginX = int((scaleUpX/2) - (128))\n",
    "\n",
    "print (scaleUpY,scaleUpX,beginY,beginX)\n",
    "crop = img[beginY:beginY+256,beginX:beginX+256]\n",
    "print(beginY+256,beginX+256)\n",
    "cv2.imwrite(cropfilename,crop)\n"
   ]
  },
  {
   "cell_type": "markdown",
   "metadata": {},
   "source": [
    "# Square an image"
   ]
  },
  {
   "cell_type": "code",
   "execution_count": null,
   "metadata": {},
   "outputs": [],
   "source": [
    "###################################\n",
    "# square entire folder\n",
    "###################################\n",
    "\n",
    "import sys\n",
    "sys.path.append('/home/ec2-user/anaconda3/envs/JupyterSystemEnv/lib/python3.6/site-packages')\n",
    "import numpy as np\n",
    "import argparse\n",
    "import imutils\n",
    "import cv2\n",
    "import os, shutil\n",
    "\n",
    "\n",
    "path = './'\n",
    "dest = '/home/ec2-user/SageMaker/imageclassification_PlantVillage_Test1/OpenCV_Data/Cropped/'\n",
    "\n",
    "\n",
    "for imageSource in os.listdir(path):\n",
    "    \n",
    "    img = cv2.imread(imageSource)\n",
    "\n",
    "    # **************** zoom/crop images ********************\n",
    "    cropfilename = path + imageSource\n",
    "    if cropfilename == './.ipynb_checkpoints':\n",
    "        continue\n",
    "    print(cropfilename)\n",
    "    #Cropped Image\n",
    "    scaleUpY = img.shape[0]\n",
    "    scaleUpX = img.shape[1]\n",
    "    diff = abs(scaleUpY-scaleUpX)\n",
    "    offset = int(diff/2)\n",
    "\n",
    "    if scaleUpY > scaleUpX:\n",
    "\n",
    "        endY = int(scaleUpY-offset)\n",
    "        crop = img[offset:endY,0:scaleUpX]\n",
    "        print(offset,endY,0,scaleUpX)\n",
    "\n",
    "    else:\n",
    "        endX = int(scaleUpX-offset)\n",
    "        crop = img[0:scaleUpY,offset:endX]\n",
    "        print(0,scaleUpY,offset,endX)\n",
    "\n",
    "    cv2.imwrite(cropfilename,crop)\n",
    "    shutil.move(imageSource,dest)"
   ]
  },
  {
   "cell_type": "markdown",
   "metadata": {},
   "source": [
    "# Resize an image (keep aspect ratio)"
   ]
  },
  {
   "cell_type": "code",
   "execution_count": null,
   "metadata": {},
   "outputs": [],
   "source": [
    "##########################\n",
    "#Resize entire folder\n",
    "##########################\n",
    "\n",
    "import cv2, os, shutil\n",
    "\n",
    "#############################################################################\n",
    "\n",
    "width = 4000\n",
    "width_prefix = ''\n",
    "#############################################################################\n",
    "path = './'\n",
    "dest = '/home/ec2-user/SageMaker/imageclassification_PlantVillage_Test1/OpenCV_Data/Resized/'\n",
    "\n",
    "for f in os.listdir(path):\n",
    "    print(f)\n",
    "    if f == '.ipynb_checkpoints':\n",
    "        continue\n",
    "    image = cv2.imread(\"./{}\".format(f))\n",
    "    r = width / image.shape[1]\n",
    "    dim = (width, int(image.shape[0] * r))\n",
    "    resized = cv2.resize(image, dim, interpolation = cv2.INTER_AREA)\n",
    "    cv2.imwrite('./{} - {}'.format(width_prefix,f),resized)\n",
    "    shutil.move(f,dest)"
   ]
  },
  {
   "cell_type": "code",
   "execution_count": null,
   "metadata": {},
   "outputs": [],
   "source": [
    "# CLI commands:\n",
    "\n",
    "\n",
    "\n",
    "# create .lst file for training data\n",
    "# python im2rec.py ./Data_rec/Data_rec ./Data/ --recursive --list --num-thread 8\n",
    "\n",
    "# create .lst file for validation data\n",
    "# python im2rec.py ./Data_val_rec/Data_val_rec ./Data_val/ --recursive --list --num-thread 8\n",
    "\n",
    "# create .idx and .rec files\n",
    "# python im2rec.py ./Data_rec ./Data/ --recursive --pass-through --pack-label --no-shuffle --num-thread 8\n",
    "\n",
    "# create .idx and .rec files\n",
    "# python im2rec.py ./Data_val_rec ./Data_val/ --recursive --pass-through --pack-label --no-shuffle --num-thread 8\n",
    "\n"
   ]
  },
  {
   "cell_type": "code",
   "execution_count": null,
   "metadata": {},
   "outputs": [],
   "source": [
    "###################\n",
    "# retired cells\n",
    "###################\n",
    "\n",
    "\n",
    "\n",
    "\n",
    "'''\n",
    "# move images from s3 bucket to folders in notebook instance\n",
    "\n",
    "import subprocess\n",
    "\n",
    "cmd = ['aws','s3','cp','s3://syscomanalytics/data_prep/training/',\n",
    "      '/home/ec2-user/SageMaker/imageclassification_PlantVillage_Test1/incubator-mxnet-master/tools/Data/',\n",
    "      '--recursive']\n",
    "\n",
    "subprocess.call(cmd)\n",
    "\n",
    "cmd = ['aws','s3','cp','s3://syscomanalytics/data_prep/validation/',\n",
    "      '/home/ec2-user/SageMaker/imageclassification_PlantVillage_Test1/incubator-mxnet-master/tools/Data_val/',\n",
    "      '--recursive']\n",
    "\n",
    "subprocess.call(cmd)\n",
    "\n",
    "print('Moved training and validation images from S3 bucket to:\\n')\n",
    "print('/home/ec2-user/SageMaker/imageclassification_PlantVillage_Test1/incubator-mxnet-master/tools/Data/')\n",
    "print('/home/ec2-user/SageMaker/imageclassification_PlantVillage_Test1/incubator-mxnet-master/tools/Data_val/')\n",
    "\n",
    "'''\n",
    "\n",
    "'''\n",
    "# convert to RecordIO format\n",
    "\n",
    "import subprocess, os\n",
    "\n",
    "\n",
    "# training .lst file\n",
    "cmd = ['python','/home/ec2-user/SageMaker/imageclassification_PlantVillage_Test1/incubator-mxnet-master/tools/im2rec.py',\n",
    "       '/home/ec2-user/SageMaker/imageclassification_PlantVillage_Test1/incubator-mxnet-master/tools/Data_rec/Data_rec',\n",
    "       '/home/ec2-user/SageMaker/imageclassification_PlantVillage_Test1/incubator-mxnet-master/tools/Data/',\n",
    "       '--recursive','--list','--num-thread','8']\n",
    "\n",
    "subprocess.call(cmd)\n",
    "\n",
    "# validation .lst file\n",
    "cmd = ['python','/home/ec2-user/SageMaker/imageclassification_PlantVillage_Test1/incubator-mxnet-master/tools/im2rec.py',\n",
    "       '/home/ec2-user/SageMaker/imageclassification_PlantVillage_Test1/incubator-mxnet-master/tools/Data_val_rec/Data_val_rec',\n",
    "       '/home/ec2-user/SageMaker/imageclassification_PlantVillage_Test1/incubator-mxnet-master/tools/Data_val/',\n",
    "       '--recursive','--list','--num-thread','8']\n",
    "\n",
    "subprocess.call(cmd)\n",
    "\n",
    "\n",
    "# training .idx and .rec files\n",
    "cmd = ['python','/home/ec2-user/SageMaker/imageclassification_PlantVillage_Test1/incubator-mxnet-master/tools/im2rec.py',\n",
    "       '/home/ec2-user/SageMaker/imageclassification_PlantVillage_Test1/incubator-mxnet-master/tools/Data_rec',\n",
    "       '/home/ec2-user/SageMaker/imageclassification_PlantVillage_Test1/incubator-mxnet-master/tools/Data/',\n",
    "       '--recursive','--pass-through','--pack-label','--no-shuffle','--num-thread','8']\n",
    "\n",
    "subprocess.call(cmd)\n",
    "\n",
    "# validation .idx and .rec files\n",
    "cmd = ['python','/home/ec2-user/SageMaker/imageclassification_PlantVillage_Test1/incubator-mxnet-master/tools/im2rec.py',\n",
    "       '/home/ec2-user/SageMaker/imageclassification_PlantVillage_Test1/incubator-mxnet-master/tools/Data_val_rec',\n",
    "       '/home/ec2-user/SageMaker/imageclassification_PlantVillage_Test1/incubator-mxnet-master/tools/Data_val/',\n",
    "       '--recursive','--pass-through','--pack-label','--no-shuffle','--num-thread','8']\n",
    "\n",
    "subprocess.call(cmd)\n",
    "\n",
    "print('Converted to RecordIO format in:\\n')\n",
    "print('/home/ec2-user/SageMaker/imageclassification_PlantVillage_Test1/incubator-mxnet-master/tools/Data_rec/')\n",
    "print('\\nAND\\n')\n",
    "print('/home/ec2-user/SageMaker/imageclassification_PlantVillage_Test1/incubator-mxnet-master/tools/Data_val_rec/')\n",
    "\n",
    "'''"
   ]
  },
  {
   "cell_type": "markdown",
   "metadata": {},
   "source": []
  }
 ],
 "metadata": {
  "kernelspec": {
   "display_name": "Python 3",
   "language": "python",
   "name": "python3"
  },
  "language_info": {
   "codemirror_mode": {
    "name": "ipython",
    "version": 3
   },
   "file_extension": ".py",
   "mimetype": "text/x-python",
   "name": "python",
   "nbconvert_exporter": "python",
   "pygments_lexer": "ipython3",
   "version": "3.6.5"
  }
 },
 "nbformat": 4,
 "nbformat_minor": 2
}
